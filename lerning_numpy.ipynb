{
 "cells": [
  {
   "cell_type": "markdown",
   "id": "32c425b2-d226-4e24-9a6a-ace5c87db6e4",
   "metadata": {},
   "source": [
    "this is for  leraning python tools"
   ]
  },
  {
   "cell_type": "markdown",
   "id": "42055de5-1fa2-4e4b-b6c7-a02f4abad338",
   "metadata": {},
   "source": [
    "lerning python numpty"
   ]
  },
  {
   "cell_type": "code",
   "execution_count": 5,
   "id": "57864081",
   "metadata": {},
   "outputs": [
    {
     "name": "stdout",
     "output_type": "stream",
     "text": [
      "loaded numpy\n"
     ]
    }
   ],
   "source": [
    "#lerning python numpty\n",
    "\n",
    "import numpy as np\n",
    "\n",
    "print(\"loaded numpy\")\n"
   ]
  },
  {
   "cell_type": "code",
   "execution_count": 3,
   "id": "f07d9b9f-0398-4b5f-9272-b059ec8b523c",
   "metadata": {},
   "outputs": [
    {
     "name": "stdout",
     "output_type": "stream",
     "text": [
      "(3,)\n",
      "3\n",
      "1\n"
     ]
    }
   ],
   "source": [
    "a = np.array([1,2,3])\n",
    "print(a.shape)\n",
    "print(a.size)\n",
    "print(a.ndim)\n",
    "\n"
   ]
  },
  {
   "cell_type": "raw",
   "id": "17ea75cd-a8a4-4b29-a36f-c5dd8845a347",
   "metadata": {},
   "source": [
    "looking a 2-D arrays"
   ]
  },
  {
   "cell_type": "code",
   "execution_count": 8,
   "id": "65c85711-c3bb-40dc-8f24-76e97f3cfaef",
   "metadata": {},
   "outputs": [
    {
     "name": "stdout",
     "output_type": "stream",
     "text": [
      "(2, 3)\n",
      "6\n",
      "2\n"
     ]
    }
   ],
   "source": [
    "b = np.array([[0,1,2],[3,4,5]])\n",
    "print(b.shape)\n",
    "print(b.size)\n",
    "print(b.ndim)"
   ]
  },
  {
   "cell_type": "code",
   "execution_count": null,
   "id": "592e52d7-ec7c-4b35-a852-b94a35f507b7",
   "metadata": {},
   "outputs": [],
   "source": []
  },
  {
   "cell_type": "code",
   "execution_count": 9,
   "id": "814c82e8-1eb6-472b-acce-3e6cedc258ce",
   "metadata": {},
   "outputs": [
    {
     "name": "stdout",
     "output_type": "stream",
     "text": [
      "(3, 2)\n",
      "6\n",
      "2\n"
     ]
    }
   ],
   "source": [
    "b = np.array([[0,1],[3,4],[2,5]])\n",
    "print(b.shape)\n",
    "print(b.size)\n",
    "print(b.ndim)"
   ]
  },
  {
   "cell_type": "code",
   "execution_count": 10,
   "id": "5591a039-a7c4-4b6c-a026-95535d097341",
   "metadata": {},
   "outputs": [
    {
     "name": "stdout",
     "output_type": "stream",
     "text": [
      "(2, 2, 3)\n",
      "12\n",
      "3\n"
     ]
    }
   ],
   "source": [
    "c = np.array([[[1,2,3],[4,5,6]], [[1,2,3],[4,5,6]]])\n",
    "print(c.shape)\n",
    "print(c.size)\n",
    "print(c.ndim)\n"
   ]
  },
  {
   "cell_type": "raw",
   "id": "7d1102e6-170d-4414-b5bf-62a09ccfc7d2",
   "metadata": {},
   "source": [
    "Reshapint"
   ]
  },
  {
   "cell_type": "code",
   "execution_count": 12,
   "id": "d499b9c3-e02a-4f28-b45c-1f9f75b4e625",
   "metadata": {},
   "outputs": [
    {
     "name": "stdout",
     "output_type": "stream",
     "text": [
      "(2, 3)\n",
      "6\n",
      "3\n"
     ]
    }
   ],
   "source": [
    "b = np.array([[1,2,3],[4,5,6]])\n",
    "print(b.shape)\n",
    "print(b.size)\n",
    "print(c.ndim)\n"
   ]
  },
  {
   "cell_type": "code",
   "execution_count": 19,
   "id": "4406c340-1d32-4009-b6ad-d4c91ccf8ac0",
   "metadata": {},
   "outputs": [
    {
     "name": "stdout",
     "output_type": "stream",
     "text": [
      "looking reshap\n",
      "[1 2 3 4 5 6]\n",
      "\n",
      "[[1 2]\n",
      " [3 4]\n",
      " [5 6]]\n",
      "\n",
      "[[1]\n",
      " [2]\n",
      " [3]\n",
      " [4]\n",
      " [5]\n",
      " [6]]\n",
      "some that does not work\n",
      "b.reshape(6,2)\n",
      "reshape(row,cols): row * cols need to = b.shape\n"
     ]
    }
   ],
   "source": [
    "print(\"looking reshap\")\n",
    "print(b.reshape(6))\n",
    "print(\"\")\n",
    "print(b.reshape(3,2))\n",
    "print(\"\")\n",
    "print(b.reshape(6,1))\n",
    "print(\"some that does not work\")\n",
    "print(\"b.reshape(6,2)\")\n",
    "print(\"reshape(row,cols): row * cols need to = b.shape\")"
   ]
  },
  {
   "cell_type": "code",
   "execution_count": null,
   "id": "27ba6977-c78c-4cd7-bfe2-2fbacbfa6eae",
   "metadata": {},
   "outputs": [],
   "source": []
  }
 ],
 "metadata": {
  "kernelspec": {
   "display_name": "Python 3 (ipykernel)",
   "language": "python",
   "name": "python3"
  },
  "language_info": {
   "codemirror_mode": {
    "name": "ipython",
    "version": 3
   },
   "file_extension": ".py",
   "mimetype": "text/x-python",
   "name": "python",
   "nbconvert_exporter": "python",
   "pygments_lexer": "ipython3",
   "version": "3.9.13"
  }
 },
 "nbformat": 4,
 "nbformat_minor": 5
}
